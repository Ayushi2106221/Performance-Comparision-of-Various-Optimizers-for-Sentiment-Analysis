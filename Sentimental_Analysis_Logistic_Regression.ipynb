{
  "cells": [
    {
      "cell_type": "code",
      "execution_count": 15,
      "metadata": {
        "id": "CwNAA-ynmCcv"
      },
      "outputs": [],
      "source": [
        "import numpy as np\n",
        "import pandas as pd\n",
        "import re\n",
        "from nltk.corpus import stopwords\n",
        "# natural language toolkit for textual data\n",
        "from nltk.stem.porter import PorterStemmer\n",
        "from sklearn.feature_extraction.text import TfidfVectorizer\n",
        "from sklearn.model_selection import train_test_split\n",
        "from sklearn.linear_model import LogisticRegression\n",
        "from sklearn.metrics import accuracy_score,classification_report\n",
        "from sklearn.tree import DecisionTreeClassifier\n",
        "from sklearn.feature_extraction.text import CountVectorizer"
      ]
    },
    {
      "cell_type": "code",
      "execution_count": 16,
      "metadata": {
        "id": "QzWpwJX-n5ka"
      },
      "outputs": [],
      "source": [
        "df=pd.read_csv(r\"C:\\Users\\karni\\OneDrive\\Desktop\\chrome downloads\\Sem6\\Minor_Project\\Cleaned_data.csv\",encoding='ISO-8859-1')"
      ]
    },
    {
      "cell_type": "code",
      "execution_count": 17,
      "metadata": {
        "colab": {
          "base_uri": "https://localhost:8080/"
        },
        "id": "F3e7qxYyxYvI",
        "outputId": "71d7b561-2de3-4e02-a6d4-511bb22f89f8"
      },
      "outputs": [
        {
          "data": {
            "text/plain": [
              "(1600000, 8)"
            ]
          },
          "execution_count": 17,
          "metadata": {},
          "output_type": "execute_result"
        }
      ],
      "source": [
        "df.shape"
      ]
    },
    {
      "cell_type": "code",
      "execution_count": 18,
      "metadata": {
        "colab": {
          "base_uri": "https://localhost:8080/",
          "height": 206
        },
        "id": "nRvB6F37xb9M",
        "outputId": "5d85f1ae-c1c7-4f50-e32d-8dace7e78145"
      },
      "outputs": [
        {
          "data": {
            "text/html": [
              "<div>\n",
              "<style scoped>\n",
              "    .dataframe tbody tr th:only-of-type {\n",
              "        vertical-align: middle;\n",
              "    }\n",
              "\n",
              "    .dataframe tbody tr th {\n",
              "        vertical-align: top;\n",
              "    }\n",
              "\n",
              "    .dataframe thead th {\n",
              "        text-align: right;\n",
              "    }\n",
              "</style>\n",
              "<table border=\"1\" class=\"dataframe\">\n",
              "  <thead>\n",
              "    <tr style=\"text-align: right;\">\n",
              "      <th></th>\n",
              "      <th>Unnamed: 0</th>\n",
              "      <th>target</th>\n",
              "      <th>id</th>\n",
              "      <th>date</th>\n",
              "      <th>flag</th>\n",
              "      <th>user</th>\n",
              "      <th>text</th>\n",
              "      <th>stemmed_content</th>\n",
              "    </tr>\n",
              "  </thead>\n",
              "  <tbody>\n",
              "    <tr>\n",
              "      <th>0</th>\n",
              "      <td>0</td>\n",
              "      <td>0</td>\n",
              "      <td>1467810369</td>\n",
              "      <td>Mon Apr 06 22:19:45 PDT 2009</td>\n",
              "      <td>NO_QUERY</td>\n",
              "      <td>_TheSpecialOne_</td>\n",
              "      <td>@switchfoot http://twitpic.com/2y1zl - Awww, t...</td>\n",
              "      <td>switchfoot http twitpic com zl awww bummer sho...</td>\n",
              "    </tr>\n",
              "    <tr>\n",
              "      <th>1</th>\n",
              "      <td>1</td>\n",
              "      <td>0</td>\n",
              "      <td>1467810672</td>\n",
              "      <td>Mon Apr 06 22:19:49 PDT 2009</td>\n",
              "      <td>NO_QUERY</td>\n",
              "      <td>scotthamilton</td>\n",
              "      <td>is upset that he can't update his Facebook by ...</td>\n",
              "      <td>upset updat facebook text might cri result sch...</td>\n",
              "    </tr>\n",
              "    <tr>\n",
              "      <th>2</th>\n",
              "      <td>2</td>\n",
              "      <td>0</td>\n",
              "      <td>1467810917</td>\n",
              "      <td>Mon Apr 06 22:19:53 PDT 2009</td>\n",
              "      <td>NO_QUERY</td>\n",
              "      <td>mattycus</td>\n",
              "      <td>@Kenichan I dived many times for the ball. Man...</td>\n",
              "      <td>kenichan dive mani time ball manag save rest g...</td>\n",
              "    </tr>\n",
              "    <tr>\n",
              "      <th>3</th>\n",
              "      <td>3</td>\n",
              "      <td>0</td>\n",
              "      <td>1467811184</td>\n",
              "      <td>Mon Apr 06 22:19:57 PDT 2009</td>\n",
              "      <td>NO_QUERY</td>\n",
              "      <td>ElleCTF</td>\n",
              "      <td>my whole body feels itchy and like its on fire</td>\n",
              "      <td>whole bodi feel itchi like fire</td>\n",
              "    </tr>\n",
              "    <tr>\n",
              "      <th>4</th>\n",
              "      <td>4</td>\n",
              "      <td>0</td>\n",
              "      <td>1467811193</td>\n",
              "      <td>Mon Apr 06 22:19:57 PDT 2009</td>\n",
              "      <td>NO_QUERY</td>\n",
              "      <td>Karoli</td>\n",
              "      <td>@nationwideclass no, it's not behaving at all....</td>\n",
              "      <td>nationwideclass behav mad see</td>\n",
              "    </tr>\n",
              "  </tbody>\n",
              "</table>\n",
              "</div>"
            ],
            "text/plain": [
              "   Unnamed: 0  target          id                          date      flag   \n",
              "0           0       0  1467810369  Mon Apr 06 22:19:45 PDT 2009  NO_QUERY  \\\n",
              "1           1       0  1467810672  Mon Apr 06 22:19:49 PDT 2009  NO_QUERY   \n",
              "2           2       0  1467810917  Mon Apr 06 22:19:53 PDT 2009  NO_QUERY   \n",
              "3           3       0  1467811184  Mon Apr 06 22:19:57 PDT 2009  NO_QUERY   \n",
              "4           4       0  1467811193  Mon Apr 06 22:19:57 PDT 2009  NO_QUERY   \n",
              "\n",
              "              user                                               text   \n",
              "0  _TheSpecialOne_  @switchfoot http://twitpic.com/2y1zl - Awww, t...  \\\n",
              "1    scotthamilton  is upset that he can't update his Facebook by ...   \n",
              "2         mattycus  @Kenichan I dived many times for the ball. Man...   \n",
              "3          ElleCTF    my whole body feels itchy and like its on fire    \n",
              "4           Karoli  @nationwideclass no, it's not behaving at all....   \n",
              "\n",
              "                                     stemmed_content  \n",
              "0  switchfoot http twitpic com zl awww bummer sho...  \n",
              "1  upset updat facebook text might cri result sch...  \n",
              "2  kenichan dive mani time ball manag save rest g...  \n",
              "3                    whole bodi feel itchi like fire  \n",
              "4                      nationwideclass behav mad see  "
            ]
          },
          "execution_count": 18,
          "metadata": {},
          "output_type": "execute_result"
        }
      ],
      "source": [
        "df.head()"
      ]
    },
    {
      "cell_type": "code",
      "execution_count": 19,
      "metadata": {
        "colab": {
          "base_uri": "https://localhost:8080/"
        },
        "id": "nlXNFqdeyBT4",
        "outputId": "ab19204b-55c4-4a8f-fed7-1773dad0d596"
      },
      "outputs": [
        {
          "data": {
            "text/plain": [
              "Unnamed: 0           0\n",
              "target               0\n",
              "id                   0\n",
              "date                 0\n",
              "flag                 0\n",
              "user                 0\n",
              "text                 0\n",
              "stemmed_content    495\n",
              "dtype: int64"
            ]
          },
          "execution_count": 19,
          "metadata": {},
          "output_type": "execute_result"
        }
      ],
      "source": [
        "#counting the number missing values in the dataset\n",
        "df.isnull().sum()"
      ]
    },
    {
      "cell_type": "code",
      "execution_count": 20,
      "metadata": {
        "colab": {
          "base_uri": "https://localhost:8080/"
        },
        "id": "bCrSk3vCyZsL",
        "outputId": "e684b380-152a-44fa-977e-919b7dc48f3f"
      },
      "outputs": [
        {
          "data": {
            "text/plain": [
              "target\n",
              "0    800000\n",
              "1    800000\n",
              "Name: count, dtype: int64"
            ]
          },
          "execution_count": 20,
          "metadata": {},
          "output_type": "execute_result"
        }
      ],
      "source": [
        "#checking the distribution of target column\n",
        "df['target'].value_counts()"
      ]
    },
    {
      "cell_type": "code",
      "execution_count": 21,
      "metadata": {
        "colab": {
          "base_uri": "https://localhost:8080/"
        },
        "id": "ywKRDuSE6HSN",
        "outputId": "11927e72-812c-4e7e-af8c-58d677149046"
      },
      "outputs": [
        {
          "name": "stdout",
          "output_type": "stream",
          "text": [
            "495\n",
            "0\n"
          ]
        }
      ],
      "source": [
        "# print(df['stemmed_content'])\n",
        "print(df['stemmed_content'].isnull().sum())\n",
        "# Drop rows with NaN values\n",
        "df.dropna(subset=['stemmed_content'], inplace=True)\n",
        "print(df['stemmed_content'].isnull().sum())\n",
        "df.shape\n",
        "df=df[::2000]"
      ]
    },
    {
      "cell_type": "code",
      "execution_count": 22,
      "metadata": {
        "id": "_ngMHh_g7XS1"
      },
      "outputs": [],
      "source": [
        "x=df['stemmed_content'].values\n",
        "y=df['target'].values"
      ]
    },
    {
      "cell_type": "code",
      "execution_count": 23,
      "metadata": {
        "colab": {
          "base_uri": "https://localhost:8080/"
        },
        "id": "S4H4NhOb7laA",
        "outputId": "48b9fdf7-3536-447c-9f43-0b6569364cfd"
      },
      "outputs": [
        {
          "name": "stdout",
          "output_type": "stream",
          "text": [
            "['switchfoot http twitpic com zl awww bummer shoulda got david carr third day'\n",
            " 'morn twitterati larg coffe bath top today list first appt load desk work'\n",
            " 'what world ppl decid shoot other watch news depress'\n",
            " 'new xserv new higher price surpris'\n",
            " 'higher cop donut ratio today left us'\n",
            " 'nawong go get access idzr org die tri'\n",
            " 'still sick still without pair brown plaid green nike blazer men'\n",
            " 'hate go school'\n",
            " 'today hung friend noth much guitar amp waaaaay bust back school monday god take life'\n",
            " 'brother understand beauti headbang sad' 'tri fix phone fail'\n",
            " 'hamlet romeo n juliet radio activ live wembley mcfli tour dvd money'\n",
            " 'back studi tell guy bore studi exam rather lab report'\n",
            " 'watch wow wow wubzi logan say goodby shandi im go miss'\n",
            " 'bookreport stalk subject dutch make senc know'\n",
            " 'want go back sixth form today' 'set alarm realiz go go less hour'\n",
            " 'raspberri white chocol cupcak hit poor poor henrywoodhous peep'\n",
            " 'think might go bed certain someon start make sens matter much pain'\n",
            " 'wendyw oh yum hilari boyfriend hate onion make cook bland'\n",
            " 'want get someth money' 'thatladyj'\n",
            " 'thank god calli tonight meant guard dog save tonight way sleep gotta move'\n",
            " 'wow realli sink never ahv watch' 'wish laptop back favourit dvd'\n",
            " 'chief put last night sad sad night' 'train feckin cram'\n",
            " 'miss mae tonight' 'chain darren yup except weekend wed thur'\n",
            " 'kingfish pop' 'mommi slept today want play'\n",
            " 'spend day play friend perform help make costum alreadi miss'\n",
            " 'ummmm corb longer see getz twitter love' 'red wine done stuck apt day'\n",
            " 'aluinnsearlait realli bad friday'\n",
            " 'burnt bad great time though work tomorrow'\n",
            " 'ch c nh l bay v vo vo n gi kh ng c tweetdeck c' 'never enough coffe'\n",
            " 'ramarnat lucki seat car hour travel someth like km' 'sick'\n",
            " 'drank oz coffe want comeback versu oz'\n",
            " 'think take anoth day complet might leav laptop'\n",
            " 'wow one episod im done season two skin saddest one' 'blogflat hour'\n",
            " 'sat daniel bibl read nice talk current stuff time get readi work'\n",
            " 'wish friend demi lovato haha' 'parti lost silli parti game'\n",
            " 'night still sad'\n",
            " 'omg flush toilet amp made odd ass sound someon drown scream wtf'\n",
            " 'iambmelt cheer dude ask origin sim though' 'rain dumfri'\n",
            " 'lizziedr agre world tour'\n",
            " 'uugghh van sock thw wors idea ever feet hurt heel agr bruis'\n",
            " 'pretti good act year old impress'\n",
            " 'goodandbroken lol yeah talk sick sara'\n",
            " 'barrycarlyon understand tri command like buy tag sell tag'\n",
            " 'louis hendi miss feel ill today got exam tomorow wednesday friday agh'\n",
            " 'ish ish cri' 'okay realli good god hell hurt'\n",
            " 'attempt make dinner slow cooker thing far smell good see cook get along well'\n",
            " 'djjamesmonro u last night'\n",
            " 'ahh colleg happi mean hard work hope everyon good day x x' 'hate monday'\n",
            " 'nozb integr time track would awesom featur nozb sync project googl doc spreadsheet'\n",
            " 'emoracket sure need search fomart harddisk' 'say want go school'\n",
            " 'allaboutg realli wouldnt expect internet focus event se smx want wifi'\n",
            " 'moneygreenauto hmm think u mayb u lol sure sweetheart sorri'\n",
            " 'leav saturday morn sf return monday head straight back work think follow monday'\n",
            " 'libari day got load work' 'think go throw minut dunno feel realli bad'\n",
            " 'want sleep pain medicin pleas kick'\n",
            " 'quot kati quot bracelet keep fall im scare im go lose'\n",
            " 'scott wegna ooohhh player heart robot broken' 'empir strike back'\n",
            " 'dishgal thank check go tri figur wrong' 'sleep foot hurt'\n",
            " 'sad babe gone loud thunder tv tmw gotta wake earli'\n",
            " 'area upper lip realli irrit'\n",
            " 'harri flight attend took bag away plane overbook also take backpack size bag cram ppl overhead'\n",
            " 'crey middl school elem high school remain open need credit graduat cali broken'\n",
            " 'got sore feet' 'mdurwin ye notic retweet' 'hope find store take us'\n",
            " 'hypedagreat oh ok quot work play til later lol'\n",
            " 'receiv leed k bib time chip hip injuri mean break k pb time around'\n",
            " 'famouslyalon need tour date stat'\n",
            " 'jr smith wat got luck u guy beat la lol would like see best wish denver nugget cav done'\n",
            " 'oh bore buut almost day til leav franc'\n",
            " 'jordanknight bed finger toe everyth cross u pick lol hope ur well got back safe poor jon xx'\n",
            " 'aww storm move away'\n",
            " 'f pink shear rarararrrarararr babyproof cut stuff make stick shear random place amp forget'\n",
            " 'game fun want close amp intens game geez'\n",
            " 'kmbar gonna nightshift tonight dunno everyon els cant run alon'\n",
            " 'tommcfli everyth wrong pass show start today least saw'\n",
            " 'work littl feet assign' 'freak stomach ach eat much'\n",
            " 'wossi wish show still live'\n",
            " 'someon want g phone googl io interest find android phone china'\n",
            " 'heard tragic news fintan http www flickr com group bristol discuss drupal'\n",
            " 'someth ode bloodi dead road ran liddol x sowwi'\n",
            " 'javo ye miss terribl boy steve spring earli except slept yet'\n",
            " 'never treasuri haha' 'want work till pm tonight blah'\n",
            " 'judi rebick block anti spp bandana display profil suppos read'\n",
            " 'dream lv nail fell sad dream lv nail fell sad' 'vsync enough time left'\n",
            " 'dougiemcfli dougi sickli feel better soon well guess feel better tour wish could lt'\n",
            " 'moonflowerchild nick diirrrdi bum hurt' 'ihap get back tortur mate'\n",
            " 'aww man rate final go laker vs cav mayb next year king jame'\n",
            " 'want song show love find nowher' 'hard say good bye'\n",
            " 'watch rd ep origin bbc quot brideshead revisit quot miniseri fascin see young jeremi iron smile miss grammer'\n",
            " 'cut shave' 'alway forget twitter tummi angri'\n",
            " 'realli bum cav lost talk pop last night would rock see kobe lebron'\n",
            " 'ybad night today hoop good day tumurruw'\n",
            " 'fml deserv crap dealt anyth good given inevit destroy'\n",
            " 'melissawoof nope one cant aswel metro' 'sickli ill bring soup'\n",
            " 'brother goe away week tomorrow' 'well woke time nice side'\n",
            " 'xxashleylvsy'\n",
            " 'got well bad headach dunno much sun gener headach hayfev ouch like'\n",
            " 'jessemccartney wait come washington gener admiss hope abl see never know'\n",
            " 'gretchellsuarez ls job get nerv gonna anymor chanc wednesday'\n",
            " 'bravemaiden yeah went way abl keep' 'himynameisciara wast sunday night'\n",
            " 'watch vh alon' 'garlic triscuit tasti'\n",
            " 'miley win breakthrough perform ashley tisdal she cool still miley much deserv lt'\n",
            " 'look ward work overnight nite nice weather alway crime gotta whole week'\n",
            " 'work go sleep'\n",
            " 'stevieth yeaaah heard mate tell told stop season end sad'\n",
            " 'samanthamc x know bet wont even like summer need food go know mum lol x'\n",
            " 'ugh im mad miss mtv award last night'\n",
            " 'louis mumm said im allow buy scalper ahhahhhh'\n",
            " 'smarti law sadli lucki choic parent like hav em much possibl whole famili nice actual'\n",
            " 'well xx' 'two day rain yeah beauti bore' 'xemvx ahhhhh seeee good'\n",
            " 'summer tv suck look forward bachelorett tonight wait sytycd get finalist'\n",
            " 'need buy new trainer badminton current one hurt big toe run shoe need proper badminton shoe need'\n",
            " 'futureiconkp lol' 'timidheathen ballroom danc parter best friend'\n",
            " 'wow good day'\n",
            " 'microsoft cool thing xbox http www engadget com tag xbox netflix australia'\n",
            " 'met ian crawford sign purpl high top realiz opportun ian cab cri'\n",
            " 'tommcfli mum like say like chicken urgh take pic everyth miss japan lot'\n",
            " 'english driver ed final tomorrow woo' 'conc p let quot none quot'\n",
            " 'baileemarshal think ha' 'want sick' 'want stay tonight show'\n",
            " 'tkennedi lol yea miss' 'wonkybonk one tweet entertain'\n",
            " 'hope rain wednesday thursday umbrella irvin rain june'\n",
            " 'ky w yn miss longer look popcorn'\n",
            " 'rnzr happymonkeysho markwith correct quick enough sorri better luck next time'\n",
            " 'like true blood wonder lafayett realli gone realli love charact hope kill'\n",
            " 'rose janic sadli one one left extern home aust'\n",
            " 'nizbiz anniedarlynx remcorpor kelseyhal verri sad heart goe love one air franc'\n",
            " 'cntkvrrussian beauti maria sharapova knock french open'\n",
            " 'frodnesor got diss volant tabl busi peopl wait martinez'\n",
            " 'hope get fed soon' 'http www raygoldmodel com everyon go sad'\n",
            " 'kid play pooh stickss school got shoee soak wet sock'\n",
            " 'king know know that let go im done tryin' 'crave new ink badli long'\n",
            " 'kshattap saw news' 'meriwilliam may well ligament damag wors break'\n",
            " 'ugh leg hurt soo bad cant sleep' 'bighit hey bed'\n",
            " 'dad birthday wonder spend birthday today hope alon'\n",
            " 'msyazzi amp got babi face make worst even sell dutch store sumtim'\n",
            " 'feel bad wifey play sim' 'sort headachi'\n",
            " 'valeriesteven spam twitter reli peopl automat refollow everi good thing exploit'\n",
            " 'reli want go leed' 'look forward work today'\n",
            " 'fav coffe shop close time home coffe compar'\n",
            " 'clean trash juic feet shoe get wors get better right'\n",
            " 'keep miss favorit west coast friend lynngg especi'\n",
            " 'breadzbayb wish soooooooo bore still clean lol http myloc jbd'\n",
            " 'got ass kick today liter' 'unspeak sad shit realli happen'\n",
            " 'everi time start fall asleep bodi jerk awak' 'everi lovesivi oh'\n",
            " 'kinagranni yay ny gig boohoo play sd' 'miss germani'\n",
            " 'weather turn like cnt beleiv sorri made typin mistak'\n",
            " 'missfrankie whenev want dont know sorri took long'\n",
            " 'mom call woke get back sleep' 'sad work today'\n",
            " 'hang mom hous untll long work nite ahead dread catch laundri'\n",
            " 'last night respect mom dude son kept wake kid sick'\n",
            " 'well woke hot crampi start dot'\n",
            " 'one pregnanc cast done go http www caribimbi blogspot com'\n",
            " 'mileycyru ddlovato tell jobro youtub suspend like read ah well'\n",
            " 'spend fun fill saturday librari' 'victoriahanfoi cold booo'\n",
            " 'oh god last ever scrub think might cri'\n",
            " 'alexapittman tri best take lol well work morn im sit noth lol'\n",
            " 'gum chew juici even sing without worri bout whether go fall mouth'\n",
            " 'makaio dudee guy still site see two random girl lol'\n",
            " 'nice night tonight full moon wish kim look ill hope stream day tomorrow ion'\n",
            " 'rxgellivictor femal jogger weird fave rx dj next delamar yay haha'\n",
            " 'still stuck work issu'\n",
            " 'lane u still shuldnt ditch sad got hope like aww um see homegirl get sum shot pop tr'\n",
            " 'ashnguyen thank wait' 'forevermov also want bring okay hahahaha'\n",
            " 'f kin household today' 'wish could travel oslo june th'\n",
            " 'need get start studi realli sad' 'ahh desper housew tonight'\n",
            " 'nicolargh ther far wont get c u xoxox'\n",
            " 'lmdub laurennnn fave blogger made blog privat turquois string top distraught'\n",
            " 'lip deceit och ne schei e'\n",
            " 'kid eat mcdonald right front cheezit chewi bar'\n",
            " 'joeymcintyr hey storm atl would done much rain ruin book lol'\n",
            " 'spent enough time auto part store day everyon black tire cover could use primer hmmm'\n",
            " 'hate say someth someon say someth els cours wrong think keep thought'\n",
            " 'feel like old ladi sometim miss young fun'\n",
            " 'tomlamb keep crash annoy gunna take back'\n",
            " 'bill h good time inde though still wish couldv consciou stole anal virgin'\n",
            " 'supernatur faz falta carri wayward son peac done'\n",
            " 'gah hour broadcast delay tor cb onlin wait'\n",
            " 'tommcfli noooooo tommi stay pleas' 'worldpay give headach'\n",
            " 'hate frequent amp flash lightn thunder hail amp strong wind happenin rite'\n",
            " 'oliverg sometim think rather suggest stop sentenc right quot guidlin quot'\n",
            " 'frustrat work late pc crash gotta reboot'\n",
            " 'love look bonni love kitchen til get back lunch walki' 'rain'\n",
            " 'look hercul legendari journey season exist dk yet'\n",
            " 'marcoruiz hi ye feel littl better take medicin'\n",
            " 'go bed feel sick night xx'\n",
            " 'windowsit pro took away digit magazin archiv page look like replac new digit deliveri system damn'\n",
            " 'ugghhh monday'\n",
            " 'gah switchfoot gonna michigan week may stay bed day depress disappoint feel siiigh'\n",
            " 'redhead ugh mortifi' 'avasmommi thought follow' 'doctor schedul surgeri'\n",
            " 'friend gone sad day'\n",
            " 'sader ever atm btw sader even word care exactli feel right'\n",
            " 'full alreadi' 'lost lot respect mr buck' 'poetick would side countri'\n",
            " 'woman chase park lot gave cold look even though gave space backup car bad craft'\n",
            " 'iflamesi oh pleas quot special mainten quot scare meh'\n",
            " 'selena mari parker name miss love lt wont talk like week'\n",
            " 'feel wors earlier'\n",
            " 'ok well goin sleep w biggggg smileeeee face day good day except bad mommi news'\n",
            " 'henaxxru hva fun hom wanna go school dad home kinda x'\n",
            " 'want asleep yet want bum see cmt award tomorrow basic cabl must find way'\n",
            " 'wahmsuzann hi site moment enjoy bake boy like bake http tinyurl com mgm ql'\n",
            " 'alfonsostreet hahahaha feel alon omg facebook'\n",
            " 'afternoon found got heematoma leg' 'traffic horrend gutom na ko' 'class'\n",
            " 'jordan play month offic ever take music advic robdabank day'\n",
            " 'father day come wish dad come home gotta wait august give pressi'\n",
            " 'gchrome stop work cancel googlepack instal type url amp hit enter page still stay blank'\n",
            " 'burger king anymor' 'tweet deck iphon miss twitteriff'\n",
            " 'urghh wisdom teeth'\n",
            " 'offtodohomework thenofftobedd thenschoolinthemorn myroutin l msooobor'\n",
            " 'bike dt allergi smoker next bike rack ow bronchiol'\n",
            " 'thought put candi ginger shot glass fill gosl dark rum would mini dark stormi epic fail'\n",
            " 'calin serious see crazi fan thing worri rob amp kristen saftey'\n",
            " 'shall eat could go chocol bad there none'\n",
            " 'unhappi still love ex husband bofriend make feel sick either way im stuck http gd h'\n",
            " 'deuxcv cold notic loveliest june ever rememb decemb thought manana'\n",
            " 'phil leav' 'bettyl amp lexawexa thank invit'\n",
            " 'requiem realli need find confirm hous three us small'\n",
            " 'wait summer weather come back want jandal back'\n",
            " 'goodnight twitter land peopl es take snif sadli next time yall hold muah sleep tight'\n",
            " 'kel away first day last day box day everi year fixtur shitti'\n",
            " 'want go back sleep cannot' 'lilyros owwwww eileen song head'\n",
            " 'pradidaaaaa cepet pulang donk http plurk com p mo'\n",
            " 'jejenpek looh aaaaaa rememb u go home juli r u'\n",
            " 'talk european fellow cycl across us jealou tri save year'\n",
            " 'poor pix ell play kinda hard amp fell amp hit lip foot couch caus teeth bleed amp lip get cut'\n",
            " 'want eat ice cream realli bad even soup bread sound lame ice cream sound goood throat hurt'\n",
            " 'hate limit' 'fucksakeeeeee'\n",
            " 'geektyr love site realli yet remak announc break heart watch older film'\n",
            " 'realli want hug' 'take step fwd n step back back icu' 'sore throat'\n",
            " 'sooooooooo hot today melt' 'chillen last nite burgh' 'robocarrot get'\n",
            " 'psa cut kid hot dog serv friend cowork kid choke one dad paramed sad ok movin'\n",
            " 'bliss bri sad lol' 'wish go'\n",
            " 'two remov two primo list tm bofor aa gun flamethrow sad panda'\n",
            " 'ahh man wish still second pair ear pierc look awesom'\n",
            " 'bad mood right step poo take dog wear new shoe fb'\n",
            " 'doctor today mayb one get foot fix'\n",
            " 'skunk got chicken coop last night got one chicken ye skunk dead gosh smell bad'\n",
            " 'back school ride home leg hurt'\n",
            " 'rawismojo aww less font geek deal preinstal one'\n",
            " 'anymor want life find way put' 'gonna hard time say goodby friend'\n",
            " 'ellenvmt looong stori tell hang wednesday strang reason wanna see ask liz'\n",
            " 'robinontherock come come wherev u' 'last day highschool today snuf'\n",
            " 'thisisjaymi mayb that comment low' 'friday still jailbreak beejiv'\n",
            " 'sore throat feel well'\n",
            " 'amerikajayn ppsssht awesom bad live closer bring one'\n",
            " 'misskatherin aaron leav sorri forgot'\n",
            " 'mnmissi lt beep gt joke got pastor followin'\n",
            " 'lil bro got clean break left forearm skate yesterday say need get surgeri seriou'\n",
            " 'jonesbeach what wrong' 'dfizzi still love great sorri peopl pick fight'\n",
            " 'shouldv took hour nap im tire amp cant fall asleep'\n",
            " 'vickiaday come along nice thank fli back monday week return ca day miss'\n",
            " 'steph whorey untweet twat gt lt ditch nana left tour boy'\n",
            " 'jsofreshhh ye sir talk pinki toe move day'\n",
            " 'sumant aww shuck come never notic'\n",
            " 'still havent got report card yet w tin ipod touch'\n",
            " 'heck vend machin work stole cent wast good chang'\n",
            " 'feel terribl hate pill hate high fever whole bodi ach need want comfort'\n",
            " 'bonofre eat plant sleep lot sometim forget use litter box go'\n",
            " 'patti see pink color'\n",
            " 'corinamarlen lol nice need one um think gonna goooooo'\n",
            " 'mitchelmusso u sell england u need' 'someon call mink isnt weasel sad'\n",
            " 'believ freshmen year alreadi time goe fast' 'damn cold'\n",
            " 'write report card' 'donniewahlberg wait face time outsid backstag'\n",
            " 'bed stay till watch smurf' 'elliottxgrey want talk anymor'\n",
            " 'rieno ok go plane ticket price insan sorri gosh charg much'\n",
            " 'friend miss puppi hope she okay'\n",
            " 'myfriendami technorati buggi told blog exist'\n",
            " 'curnew talk wiener make hungri gonna shower come' 'tire forc go'\n",
            " 'wish one week futur hello need holiday' 'stuck work' 'mrboutiqu ii work'\n",
            " 'ducki noth bring' 'damn iphon dock cabl split see bare wire'\n",
            " 'feel greatest today stupid summer cold'\n",
            " 'ugh anoth cloudi morn san diego http mypict fr'\n",
            " 'rondhi love one explod dog man love mani thing enough hardwar justifi buy'\n",
            " 'anyon els match switch new zealand game bbc'\n",
            " 'idk wat today gonna go beach weather mean'\n",
            " 'last saturday england one week till la wooooooooo'\n",
            " 'absynth never good bbq mixer even vanilla'\n",
            " 'aww morri scare poor doggi woggi' 'miss tommi' 'cjcroll sad'\n",
            " 'aw hate leav famili' 'wonder anoth thing screw'\n",
            " 'iluvmyiphon lol happend power went fridg got hot melon stunk bad omgomgogmogm'\n",
            " 'dana quot like asian version mk today quot forgot take pic blog anyway watch doubl jeopardi'\n",
            " 'zorak yike glad know ac realli start worri ugh' 'miss babi'\n",
            " 'need new graphic card bad' 'aah want go metro station concert soo bad'\n",
            " 'hard time deal linear equat l brain gonna explod gosh'\n",
            " 'im show raga friend twitter dinner hous'\n",
            " 'feel like sleep like hour hate morn parti'\n",
            " 'think gonna rain noooooooooo' 'feel sorri kidless father day'\n",
            " 'graduat tomorrow im gonna miss bitch especi megzakarockstar one get phone pocket nail wet'\n",
            " 'cheesebk sun earlier hope get usual blighti get downpour think get later though'\n",
            " 'ddlovato suck watch new movi ppp selena great'\n",
            " 'ike new driveway broken tooth sail summer'\n",
            " 'live fuck world realli naiv alway tri see good ppl ppl r fuckin evil natur'\n",
            " 'hate sun fair skin peopl'\n",
            " 'tomorrow go rough day year r p vaness livin life way u want us way u'\n",
            " 'rain suppos summer sun come come ever u r'\n",
            " 'sorri video upload twitel pro work video fb new doubl rapid strap http us u'\n",
            " 'th realcali u suck' 'feel like shit kind sick x'\n",
            " 'crissyrob sunburn sore yin fog lol'\n",
            " 'diegoboneta con twitter ii yo ni en cuentaa hice mi updat sin ver sabido q existia un twitter l'\n",
            " 'exhaust stuf luggag honolulu airport goodby hawaii gonna miss place'\n",
            " 'ughh work tomorrow'\n",
            " 'great time kilkenni everyon wish juli could go bed earli tee time golf yike'\n",
            " 'miss target friend feel like bastard child'\n",
            " 'bella hale gonna goto canada ran time' 'lynn ahh yea cool'\n",
            " 'crave dodgi kebab shop pizza cant sydney'\n",
            " 'lost favorit necklac today im tore' 'datavi full feed'\n",
            " 'wont let follow peopl say follow dosent'\n",
            " 'time pm still offic hectic life' 'fuck anoth funer'\n",
            " 'srslysarahce whatt mine'\n",
            " 'watsess park run nike sensor work http bit ly tgib'\n",
            " 'order someth think right fuck get'\n",
            " 'awwh bab look sad underneith shop entranc quot yesterday musik quot like look new transform movi'\n",
            " 'morn everyon' 'watch e sunset tan'\n",
            " 'shimbin rose without thorn proper rose'\n",
            " 'vron realli quot get twitter quot like bad sex think everyth fine lt'\n",
            " 'lcolwil thank friend' 'thank god week year almost'\n",
            " 'nancylittlebit thank follow' 'marin funni like surpris'\n",
            " 'kimkardashian hey kim im huge fan ur like role model realli hope actual meet u one day'\n",
            " 'time get readi dinner date hubbi tonight'\n",
            " 'iol beer pizza fish cinnamon roll milkshak last tweet chow peopl'\n",
            " 'start use twitterbar kinda cool http gd npu' 'mossbeep thank much'\n",
            " 'ivoteforart happi pic everyon visit comment also better buy'\n",
            " 'freshbostonch good morn' 'amyycudg call nobodi'\n",
            " 'andydick inspir sooo glad hang take day come much luck yo'\n",
            " 'hi dubaiaudio would suggest music electro project http bit ly no free download amp fun cheer'\n",
            " 'watch princ' 'blockbust hannah montana watch haha'\n",
            " 'babooz great pictur except one back end includ'\n",
            " 'musicmonday listen beyonc halo latest obsess song'\n",
            " 'trash uniffom im rebel'\n",
            " 'alreadi done news page week issu bjp move next week'\n",
            " 'start day day work week' 'paulisonfir okay caus hear hell video'\n",
            " 'alanrenouf work home today life suck'\n",
            " 'richchetwynd thank retweet frame refer person brand'\n",
            " 'half day day get orthodontist last visit ever'\n",
            " 'phebek ha tweet horizont fall asleep' 'jlocal yep'\n",
            " 'stephenfri broke tweet'\n",
            " 'ben stiller may mark calend take boy see mother day gift love movi'\n",
            " 'brunolovesbrit ye thankyou'\n",
            " 'sed india elect low turnout bco exam ballot extend till may happen student organis'\n",
            " 'wow start feel dizzi fom lack sleep common one stepclos go sleep night twitte'\n",
            " 'pinkynkotb good idea ill tht' 'finish skype papi well ksa'\n",
            " 'watch britney circu tour youtub love hope pass philippin'\n",
            " 'watch bride war'\n",
            " 'tytryon good u still missin yr daughter u gonna get see soon hope'\n",
            " 'hey twitter'\n",
            " 'dep suck hot bath like tom say beer help mayb combin togeth'\n",
            " 'hey everyon xxxdifferentxxx shay songwrit still though'\n",
            " 'good morn tweepl head bookstor new obsess font typographi'\n",
            " 'start watch buffi' 'text ittt anddd keyboaaaarrdd soon'\n",
            " 'miklbarton mhmm isnt loverli'\n",
            " 'finickymia roll total buy get abroad roll would last week mayb less sunni sky beckon'\n",
            " 'time reliev stress gym someon write speech take exam research'\n",
            " 'http dayna dreamwidth org daili random ness'\n",
            " 'cassusriff ye feel still got lot box fun though got new place yesterday'\n",
            " 'missgiggli good night'\n",
            " 'happi keve earli mother day let quiet drove night sleep'\n",
            " 'tennydesign rog rio minotouro fight'\n",
            " 'sleepi time happi mother day current futur mom around globe'\n",
            " 'securityj problem look forward next tweet'\n",
            " 'last week hit guinea pig pictur webshot even promot way go'\n",
            " 'http bit ly cti celtic live'\n",
            " 'tommcfli u need learn tune thingi tht play tht huge floor piano'\n",
            " 'http twitpic com wz coz best mate say hi sophie' 'beauti day mother day'\n",
            " 'happi mother day got church great head eat minut'\n",
            " 'kayakcov tamadear happi mother day' 'wait movi come http bit ly iix'\n",
            " 'jaseyalltimelow post name first pet amp street grew twitterpornnam http bit ly jjn g'\n",
            " 'pauliiinaaa whose side mine'\n",
            " 'ladiiver ye learn guitar gotten guitar awesom dude bibl studi take guitar class fall'\n",
            " 'im glad get rid good amp gain que'\n",
            " 'yay marmaduk duke cd arriv n pass mock drivin test long b cn drive woop woop good day tink'\n",
            " 'rise shine everyon new day new challeng hold head high take world'\n",
            " 'gommit sell less year time price' 'missxmarisa amp amp good'\n",
            " 'ok live sketch anyon want watch tweet set im love headshot alreadi though'\n",
            " 'streetztalk cours actual sit quietli corner lolol like right caus fever amp cold'\n",
            " 'great night w boyzzzzz alway'\n",
            " 'xxpodex hey nice noe dat u live india neway rohan yr amp ya frm mumbai'\n",
            " 'train cph gr conf mostli offlin day stockholm train ride dedic write first ever groovi'\n",
            " 'crucifir well imagin nice choic word though coz dont think surviv without'\n",
            " 'lilyroseallen us nah fit tour bu'\n",
            " 'onlymcash honestli rememb mad random lol must good one cuz woke right side bed'\n",
            " 'weekend food paradis though feel guilti self piti go continu old health plan'\n",
            " 'ok folk gonna go jump love warm warm chill bit might b later catch uz tomorrow bye bye xxx'\n",
            " 'spent time dad today' 'eamfrench gotta get tweet that'\n",
            " 'see seen star trek wanna see weekend babi'\n",
            " 'davidarchi haha noth realli new ga constantli goin'\n",
            " 'alreadi look forward go popsikl next week' 'happier'\n",
            " 'liz azyan good luck flat hunt review hope posit outcom'\n",
            " 'ankita gaba congratul initi' 'tiflosourti quot quot forev'\n",
            " 'updat portfolio http bit ly ct tr'\n",
            " 'brainstuck oh yeah recollect one rang bell'\n",
            " 'hilzfuld camera term len thing call f stop photo ppl get non photo ppl ask'\n",
            " 'morn time go dentist shiti week monday let last week hold'\n",
            " 'samantharonson good morn brazil nice day' 'michaelhewitt tri ear muff'\n",
            " 'wanna twit' 'momsofamerica welcom' 'done pack'\n",
            " 'andyclemmensen whoo got trend topic rule' 'burgrer king mom jd'\n",
            " 'turkish goddess ye everi night n dha hubbi tryna keep compani'\n",
            " 'emmacl much r dvd cost postag everyth mind ask'\n",
            " 'orangi lol well hug coffe sweat small stuff'\n",
            " 'maloosii hahahah thank much u got facebook'\n",
            " 'mari victoria woot tan get readi certain vacat'\n",
            " 'itskikibabi tell tmobil need job need hire pleas thank'\n",
            " 'ajhoffmann think morn whoa instead type fat finger syndrom produc tgif'\n",
            " 'look forward love long weekend'\n",
            " 'pragmatist vanillari layer nice top skin scrub keep fluffi soap'\n",
            " 'way famili reunion love famili'\n",
            " 'marlen oh yesss let tri next week come hibern hate ppl exam'\n",
            " 'kristinfinley yay invit way tombston togeth'\n",
            " 'horni sex dat releas stree vi ega' 'beadq wish'\n",
            " 'xxkingofkingsxx cuz go crazi game lmao tri everybodi lmaoo relax saw game littl piss'\n",
            " 'shannannagin haha thank tri keep tan'\n",
            " 'hmm feel fairli accomplish work think go sleep nite nite'\n",
            " 'pjsamuel thank' 'tg ticket offic cuti ground ofiic'\n",
            " 'back da night club awesom night' 'mcsteph awwwwwww cuti'\n",
            " 'lolaam lol c nice wanna new yorker lol'\n",
            " 'ziceb cool well dm want sound interest'\n",
            " 'digidickinson louisebolotin approv plucki upstart journo student take long'\n",
            " 'bore miseri need someth lol' 'surajram limeic hehe enjoy twpp'\n",
            " 'late caus lunch haha loos caboos rule' 'redx justdasoundguy right'\n",
            " 'gonna watch quot holiday quot' 'jennalego dude chill ton time'\n",
            " 'bout order mcdonald angu third pounder meal yumm'\n",
            " 'bout watch movi love movi' 'night could b fun'\n",
            " 'proudmomx omg took dirti thought right outa head like'\n",
            " 'movi watch tonight' 'farrah got pedicur hot pink like mama'\n",
            " 'nickytvf tell goe' 'dukkrog would definit worth shot'\n",
            " 'preternreview well drink dakota cassidi book deaden pain'\n",
            " 'kk nani tati love famili go grad night soon'\n",
            " 'know babi would want see blink lol'\n",
            " 'bu glasgow cold sinc someon window open realli nice day'\n",
            " 'stiff shoulda stretch last night oh well stretch get readi great day degre celsiu'\n",
            " 'pob morn good ta'\n",
            " 'flashmcdonnel humour creat hero option make worthwhil made lad explod wherev hit'\n",
            " 'race cure thank god iphon gp'\n",
            " 'ah st day summer kid swim nurs sunburn got good tip teach kid swim'\n",
            " 'nastytaiboogi mornin twitsi lol' 'site set start post'\n",
            " 'tina benefit twitter etc let know even though bazillion mile away'\n",
            " 'graduat day wait famili' 'jess truesdal enjoy sweet day hubbi'\n",
            " 'lisch figur get streamer work let know'\n",
            " 'blatter kiwi think dd tri one job next week'\n",
            " 'last night aka taylor birthday goood'\n",
            " 'justmileyc awe thank soo much realli appreci'\n",
            " 'bgt susan boyl remind muppet show sweetum charact'\n",
            " 'got back beach love home' 'luvin recent df ad xx'\n",
            " 'think go get bath go bed read twilight x'\n",
            " 'joshuamneff give away end think jack bauer shoot hous md'\n",
            " 'glad divers x' 'chii ga renaiss festiv fairburn north atlanta'\n",
            " 'rareladi today recommend atari'\n",
            " 'geekwif need rest flyinglush find way back think tini time'\n",
            " 'finish littl laundri play citi hero bed good night friend'\n",
            " 'crown need say nice nite tweopl' 'mech angel often ye exactli'\n",
            " 'new look new life new love' 'realmfox forget blow kiss ur'\n",
            " 'hahaha laugh hard bye bye byee part lt harri amp danni danc classic'\n",
            " 'ceciliatan awesom review dinner guy miss ryan'\n",
            " 'love laugh feet bestest friend'\n",
            " 'way must hold weight subtract ur weight u know cat columbalivia cat weigh pound jesu christ'\n",
            " 'honestli mind wooki man cook love cook satisfi grin'\n",
            " 'cimmermani plan ask x'\n",
            " 'go see new hannah montana movi friend go get pizza bath'\n",
            " 'mielzr watch rove' 'bae sexi sleep lovin'\n",
            " 'mamii thicknesz lol afternoon good afternoon babe'\n",
            " 'love birthday http plurk com p xedq' 'mvd show pixplsthx'\n",
            " 'ambarvalia real came tho plonk self onto shelter hut reserv min spend cours disregard'\n",
            " 'tire go audit briana today' 'casiestewart'\n",
            " 'best friend moniquetaylr charwalkerr becca lefebvr daniellewaid'\n",
            " 'hello sunshin' 'spent day garden megan amaz'\n",
            " 'look forward see seaniebabi today'\n",
            " 'new geico commerci tenni match film hdc tenni stadium graduat'\n",
            " 'http jobokpleas blogspot com new concept get startup job http twitter com jobokpleas ades'\n",
            " 'back high school love twilight cullen famili rock'\n",
            " 'help sing elvi dead saturday sorri nicki' 'ajobbin lot like love end'\n",
            " 'queenofthebeat girl pleas u aint seen nothin yet wait til get hang thing'\n",
            " 'axelsros listen heart f radio kind gal nme mayb'\n",
            " 'tommytrc thank shout behind scene video thank mention jeff citi'\n",
            " 'wait til new moon trailer'\n",
            " 'drewstein know problem type hear tone voic complet joke hope understand'\n",
            " 'good morn new week new month new start hope good one'\n",
            " 'cindicupcak lol funni pic ny eager'\n",
            " 'final go home alleluia beeen long day work tire glad everyth girl amp got better x'\n",
            " 'icatharin aw well least miss much feel like music award bettah anyway'\n",
            " 'knock man termin look go twat'\n",
            " 'sugarghc yaaaay kristen rob best kiss sooo clear wasnt'\n",
            " 'harumscarum lol b love video stimul visual aural haha civil twilight awesom found ms'\n",
            " 'tweetin nighti'\n",
            " 'mileycyru http twitpic com dvj look gorgeou love dress hair'\n",
            " 'abhishek dude want littl bit sugar everyth could would make tea sugar'\n",
            " 'zootout hope tamsin still london perform go love see stage'\n",
            " 'headstop thank still build differ depart gotten disori'\n",
            " 'laylalavign got right big red ftw come dr pepper' 'breakfast mom'\n",
            " 'fanci zhang'\n",
            " 'finish studi day good time pray phone cg mbr fun time talk friend msn'\n",
            " 'back keel major dilemma uni choos next year head say one thing heart say anoth'\n",
            " 'tire today wait holiday begin' 'bangoul thank worri want beach lake'\n",
            " 'shoestring caus neck look ko ol' 'omg give money'\n",
            " 'glad make happi though'\n",
            " 'alltimeemma want see haha best movi everrr better spongebob squarep movi'\n",
            " 'nanda welcom' 'free custard sampleand brought tear satisfact eye'\n",
            " 'thank god molli pool'\n",
            " 'saw new camaro walmart park lot dark blue v model love quot admir acquir quot'\n",
            " 'ahhh play guitar minut forev final'\n",
            " 'blckbettyboop ye alto great nd soprano alto good harmon'\n",
            " 'countrymusiclvr product' 'thedebbyryan ahhh love song hah'\n",
            " 'madsvalentin hahahahaa good luck text come hous school'\n",
            " 'hi leah art thank doubl retweet late tonight'\n",
            " 'lilwldchld goodnight pleasant dream lilwldchld quot one time old time goodnight quot http blip fm h zg'\n",
            " 'synisterchyck happi birthday fellow gemini'\n",
            " 'idonttwitt r cannot say disappoint quit like heard talk odd water break'\n",
            " 'voodoodog go youtub search wondergirl'\n",
            " 'tuhunugraha onlin ticket long time come give tri'\n",
            " 'k go tri get sleep wish sweet dream'\n",
            " 'perfectreason that good oh awesom hmm noth interest learn play guitar xx'\n",
            " 'missrosaliehal happi ya'\n",
            " 'jordaaaannnn one last tweet combustiblesong night tehstalk shut discovagina xd peac outski'\n",
            " 'davidbullock sure thank share list' 'comedyqueen ok dont worri lol'\n",
            " 'artfulmemori think although feel littl guilti atleast quot light quot whip'\n",
            " 'edibow oh love ladi fave line everybodi free anthem'\n",
            " 'microsoft natal total sweet'\n",
            " 'histori geek tri cgbj might abl help sort mine'\n",
            " 'ainz argu rule repli geek' 'disneyfan awesom'\n",
            " 'sleepi time men vs wild lt'\n",
            " 'two thumb memori day activ sheet http webfl bxh wm'\n",
            " 'aiysha morn swallow sand run mayb sign rest'\n",
            " 'woke napp ahah hadd long day school'\n",
            " 'damohopo short distanc middl distanc run long jump athough particularli wonder'\n",
            " 'cervu thx'\n",
            " 'dpbenson way mayb one withstand amp understand olivia unleash think readi take along'\n",
            " 'love lay street light desert street best friend'\n",
            " 'jenni oreilli yeahhh pleas'\n",
            " 'realli know time day make wanna come twitter'\n",
            " 'made cake somebodi want piec'\n",
            " 'excit super cute cloth tull us came hooray'\n",
            " 'lacyinwonderlnd haha wow good see anoth bt met mother fan around'\n",
            " 'hey girl' 'found pen' 'loveonherwrist dont realli know well heh awesom'\n",
            " 'charlottehali ye final home xd gonna shower fun play guitar sweeti'\n",
            " 'oaksld come hous banjo practic later banjo antagonist friend may bring amp'\n",
            " 'juli moor see thier face realis home comfort lol'\n",
            " 'onlinexplor fun though' 'enjoy rain'\n",
            " 'day final nice raini day rest amp relax guilt stay insid'\n",
            " 'samscheert stuff trunk suck' 'jennilynn keatonsimon hahaha'\n",
            " 'littl miss sunshin film'\n",
            " 'jenninpg comin bit late wise person said quot bad unless u learn anyth quot live n learn eh'\n",
            " 'learn lesson hard way'\n",
            " 'im www wethewest com aka wethewest watchin zoe muthafuckin roasta new video check site u havent alreadi'\n",
            " 'janieknockout oh yeah whup ass close eye pick randomli still whup ass love jani'\n",
            " 'follow'\n",
            " 'work woot quot day quot u serious trip cordless phone quot haha'\n",
            " 'ink caduceu pic desk size tv tim tam'\n",
            " 'withahook hey juli follow jennwagn want amiga'\n",
            " 'gooo move technorati com'\n",
            " 'http twitpic com q u kurt mari gucci chill drinkng buchanan'\n",
            " 'startonom pretti good' 'samm xo iknow ive sseeen'\n",
            " 'winner rspca young photograph award pet lover http bit ly cvqey'\n",
            " 'busi week littl friday night nap spend time volunt gig watch south park'\n",
            " 'want go disneyland cant caus like almost im cal lame goodnight'\n",
            " 'oweew lol post mani tweet think get ban hour idea mayb'\n",
            " 'go practic song helga tune guitar' 'damn p nk good stop listen'\n",
            " 'sashagrey better yet person dj spin next parti hire week back'\n",
            " 'noth better wake coupl chapter updat thank invalid realiti bring teh happi'\n",
            " 'yeah land first follow way go giz need anoth overtak aplusk light snack'\n",
            " 'rnote heyyyyyyyyyyyyyyy whatz hannin take ova juzz twitter bout worlddddddddddddddddddddddddddd'\n",
            " 'wcchicago start' 'must go make coffe' 'walk marina boardwalk'\n",
            " 'imjoebak hey problem bit random follow look cute interest bought sim way go h want'\n",
            " 'want go american eagl' 'beemomma josh cold runni nose shey fault'\n",
            " 'fighttheprocess ye trace amp demi soo cute lt' 'weed season'\n",
            " 'riotgrrrlonlin depend partner realli'\n",
            " 'jbsibley ouch win anoth lotteri pay tax one work guvmint'\n",
            " 'mamagaea got one today amaz'\n",
            " 'eric alek thank special ff find realli good sens humor get know better'\n",
            " 'day promis rememb hope' 'dust bike good night bike ride'\n",
            " 'wooo number tweet post board right' 'jonasbroth didnt miley say'\n",
            " 'shit forgot graham norton tonight pm est love show wonder tonight well alway funni anyway'\n",
            " 'right time bed long day sinc sleep well hope hang bad'\n",
            " 'ifilma congratul'\n",
            " 'arjanwrit passionpit tune june mix courtesi fine blog'\n",
            " 'billiejarmstrng head way honey besaf amp safejourney peac love amp light xoxcyberscampxox'\n",
            " 'tricia zlnet thank repli earlier day made feel bit better keep swim right'\n",
            " 'go bed start feel better excit half music collect tomorow morn happi day'\n",
            " 'good morn sweet thing' 'yow peopl'\n",
            " 'pkandrosi alreadi felt nice amp mmi lov tri mine time ahaha'\n",
            " 'miss jennyy u wish u cal us though although seem like fun group hang w u guy'\n",
            " 'aalaap ye put back actual'\n",
            " 'david attenborough min natur histori talk r admit quit like to sloth http bit ly vnpni'\n",
            " 'iluvmycrushesx pm' 'jabl lfc hey becca rampag chariot comp'\n",
            " 'finish russia wooooo germani realli start week ago'\n",
            " 'everybodi look feet last night yeezi stay home guy'\n",
            " 'http twitpic com trpi quot face doubl quot pretti one lol'\n",
            " 'tri sing jonasbroth song event lovebuuuggg wowow wish luck peep'\n",
            " 'xocazza im nt gonna b ur saftey blanket time'\n",
            " 'http twitpic com tz need rethink life think he relat buddi bylon'\n",
            " 'see ya beach rain gear tow case sun screen'\n",
            " 'joshachump damn sound good btw miss yr face' 'famili parti'\n",
            " 'still sub cross game episod ten episod eleven air today wonder famili go eat today hungri'\n",
            " 'sit poolsid md golf amp countri club eat delici crab pizza'\n",
            " 'love white sox mess'\n",
            " 'ea upcom iphon command amp conquer red alert quot http bit ly q ibp run pre'\n",
            " 'wunderr haha order food p'\n",
            " 'dodgergirl ab omg yessss f hilari told laughin pretti loud'\n",
            " 'audit went well watch armageddon'\n",
            " 'withh cassgreco eat cupcak talkingg boutt fatt boyyss smelli car'\n",
            " 'eat soul food watch laker game'\n",
            " 'watch jona listen ipod tweet finish homework im quit multitask haha'\n",
            " 'sushi boy good home http twitpic com vn r' 'ad twitter'\n",
            " 'amandacolbert ohh okay see sidebar thank littl twitter tutor'\n",
            " 'woo school tomorrow morn wah heyyyi blood poisin'\n",
            " 'peanutspic hey hey thing g amp head kinga juli semest break sat g day'\n",
            " 'modthesim good know' 'feel like die hair'\n",
            " 'mgillet oh great thank mind go vega oct though lol news hr eu confer'\n",
            " 'sunburnt happi plu syndic rock cau play alic deejay better alon'\n",
            " 'bunnypunia gonna ride guess' 'nzfashion sound like one cool mum'\n",
            " 'feel like butt crack dawn go back sleep go class'\n",
            " 'meet patrent today excit' 'fdish thank allot follow look forward tweet'\n",
            " 'tenni queen lol didnt know yesterday'\n",
            " 'mathildaab hi mathilda um name erika sup ju wnna make sum frnd twitter'\n",
            " 'dsourc want slot car even remot control car'\n",
            " 'http twitpic com gtvt prettiest friend' 'mindlesspursuit thank'\n",
            " 'mangolamoi finish download mine favorit song right quot turn right quot'\n",
            " 'markhoppu post time alway post realli destini haha'\n",
            " 'excel love go master someday' 'yay almost signinq place mitchelmusso'\n",
            " 'watch oc ipod touch break work love'\n",
            " 'home first day summer school time relax awesom class lot'\n",
            " 'sit train listen iron maiden happen sit next dude read moss book'\n",
            " 'opinion pleas dream ever realli come true thought pleas'\n",
            " 'imagin john lennon one favorit song'\n",
            " 'good attitud realli well tkd way go kelli' 'finish clean room yay'\n",
            " 'jddowsett got twitter obvious miss dear'\n",
            " 'oh im sit behind play iblizzard michael skate' 'finish watchin utsid'\n",
            " 'peter hey u check green support fair amp free elect everywher iranelect nice night'\n",
            " 'hitekfam year month smart sweet love momma'\n",
            " 'definit get ball roll plan weekend thumb ladi night' 'wish hour day'\n",
            " 'sing kumbaya rt beaudin' 'kanarati ye ye real realli first'\n",
            " 'steph william thinkin catch sum time week'\n",
            " 'hour work launch new version archdaili feedback appreci continu work sleep'\n",
            " 'wossi mani congrat music industri award well deserv'\n",
            " 'yumiatanimax yeah happi came back xd least yuri sad'\n",
            " 'iphon os great updat work perfect delight say live expect'\n",
            " 'fallagain hahahaha inde ok wait wait tri rush product cepat cepat cant wait'\n",
            " 'clericaaron ye lbruton tulsalanparti com good start think alreadi'\n",
            " 'charloteee hiya abb hiya buttonss hiya annaaac hiya'\n",
            " 'sethu j haha love much' 'enjoy one day freedom good thing sunni'\n",
            " 'everyon go pick line vine tri time jonasbroth today amaz lvatt']\n"
          ]
        }
      ],
      "source": [
        "print(x)"
      ]
    },
    {
      "cell_type": "code",
      "execution_count": 24,
      "metadata": {
        "colab": {
          "base_uri": "https://localhost:8080/"
        },
        "id": "CUn3Xk0_7pL7",
        "outputId": "9a31c30a-51f5-4bdb-c4d4-640a9aa54822"
      },
      "outputs": [
        {
          "name": "stdout",
          "output_type": "stream",
          "text": [
            "[0 0 0 0 0 0 0 0 0 0 0 0 0 0 0 0 0 0 0 0 0 0 0 0 0 0 0 0 0 0 0 0 0 0 0 0 0\n",
            " 0 0 0 0 0 0 0 0 0 0 0 0 0 0 0 0 0 0 0 0 0 0 0 0 0 0 0 0 0 0 0 0 0 0 0 0 0\n",
            " 0 0 0 0 0 0 0 0 0 0 0 0 0 0 0 0 0 0 0 0 0 0 0 0 0 0 0 0 0 0 0 0 0 0 0 0 0\n",
            " 0 0 0 0 0 0 0 0 0 0 0 0 0 0 0 0 0 0 0 0 0 0 0 0 0 0 0 0 0 0 0 0 0 0 0 0 0\n",
            " 0 0 0 0 0 0 0 0 0 0 0 0 0 0 0 0 0 0 0 0 0 0 0 0 0 0 0 0 0 0 0 0 0 0 0 0 0\n",
            " 0 0 0 0 0 0 0 0 0 0 0 0 0 0 0 0 0 0 0 0 0 0 0 0 0 0 0 0 0 0 0 0 0 0 0 0 0\n",
            " 0 0 0 0 0 0 0 0 0 0 0 0 0 0 0 0 0 0 0 0 0 0 0 0 0 0 0 0 0 0 0 0 0 0 0 0 0\n",
            " 0 0 0 0 0 0 0 0 0 0 0 0 0 0 0 0 0 0 0 0 0 0 0 0 0 0 0 0 0 0 0 0 0 0 0 0 0\n",
            " 0 0 0 0 0 0 0 0 0 0 0 0 0 0 0 0 0 0 0 0 0 0 0 0 0 0 0 0 0 0 0 0 0 0 0 0 0\n",
            " 0 0 0 0 0 0 0 0 0 0 0 0 0 0 0 0 0 0 0 0 0 0 0 0 0 0 0 0 0 0 0 0 0 0 0 0 0\n",
            " 0 0 0 0 0 0 0 0 0 0 0 0 0 0 0 0 0 0 0 0 0 0 0 0 0 0 0 0 0 0 1 1 1 1 1 1 1\n",
            " 1 1 1 1 1 1 1 1 1 1 1 1 1 1 1 1 1 1 1 1 1 1 1 1 1 1 1 1 1 1 1 1 1 1 1 1 1\n",
            " 1 1 1 1 1 1 1 1 1 1 1 1 1 1 1 1 1 1 1 1 1 1 1 1 1 1 1 1 1 1 1 1 1 1 1 1 1\n",
            " 1 1 1 1 1 1 1 1 1 1 1 1 1 1 1 1 1 1 1 1 1 1 1 1 1 1 1 1 1 1 1 1 1 1 1 1 1\n",
            " 1 1 1 1 1 1 1 1 1 1 1 1 1 1 1 1 1 1 1 1 1 1 1 1 1 1 1 1 1 1 1 1 1 1 1 1 1\n",
            " 1 1 1 1 1 1 1 1 1 1 1 1 1 1 1 1 1 1 1 1 1 1 1 1 1 1 1 1 1 1 1 1 1 1 1 1 1\n",
            " 1 1 1 1 1 1 1 1 1 1 1 1 1 1 1 1 1 1 1 1 1 1 1 1 1 1 1 1 1 1 1 1 1 1 1 1 1\n",
            " 1 1 1 1 1 1 1 1 1 1 1 1 1 1 1 1 1 1 1 1 1 1 1 1 1 1 1 1 1 1 1 1 1 1 1 1 1\n",
            " 1 1 1 1 1 1 1 1 1 1 1 1 1 1 1 1 1 1 1 1 1 1 1 1 1 1 1 1 1 1 1 1 1 1 1 1 1\n",
            " 1 1 1 1 1 1 1 1 1 1 1 1 1 1 1 1 1 1 1 1 1 1 1 1 1 1 1 1 1 1 1 1 1 1 1 1 1\n",
            " 1 1 1 1 1 1 1 1 1 1 1 1 1 1 1 1 1 1 1 1 1 1 1 1 1 1 1 1 1 1 1 1 1 1 1 1 1\n",
            " 1 1 1 1 1 1 1 1 1 1 1 1 1 1 1 1 1 1 1 1 1 1 1]\n"
          ]
        }
      ],
      "source": [
        "print(y)"
      ]
    },
    {
      "cell_type": "code",
      "execution_count": 25,
      "metadata": {
        "id": "u_9I8qIA7qke"
      },
      "outputs": [],
      "source": [
        "x_train,x_test,y_train,y_test=train_test_split(x,y,test_size=0.2,random_state=2,stratify=y)"
      ]
    },
    {
      "cell_type": "code",
      "execution_count": 26,
      "metadata": {
        "colab": {
          "base_uri": "https://localhost:8080/"
        },
        "id": "1em17Jqo8fgz",
        "outputId": "468e4ebf-341d-43b9-f374-c8314a482371"
      },
      "outputs": [
        {
          "name": "stdout",
          "output_type": "stream",
          "text": [
            "(800,) (640,) (160,)\n"
          ]
        }
      ],
      "source": [
        "print(x.shape,x_train.shape,x_test.shape)"
      ]
    },
    {
      "cell_type": "code",
      "execution_count": 27,
      "metadata": {
        "id": "eCGWgLT38sF1"
      },
      "outputs": [],
      "source": [
        "#converting the actual data to numerical data\n",
        "vectorizer=TfidfVectorizer()\n",
        "x_train=vectorizer.fit_transform(x_train)\n",
        "x_test=vectorizer.transform(x_test)"
      ]
    },
    {
      "cell_type": "code",
      "execution_count": 28,
      "metadata": {},
      "outputs": [
        {
          "name": "stdout",
          "output_type": "stream",
          "text": [
            "Stopping search: maximum iterations reached --> 100\n",
            "Best hyperparameters (C, gamma): (0.21712653734211754, 1900386.1137381205)\n",
            "Best accuracy found by PSO: 0.6375\n",
            "Accuracy of the final model: 0.6375\n"
          ]
        }
      ],
      "source": [
        "from pyswarm import pso\n",
        "# Define the objective function for PSO\n",
        "def objective_function(x):\n",
        "    C = 10 ** x[0]  # Assuming x[0] represents the log10(C)\n",
        "    gamma = 10 ** x[1]  # Assuming x[1] represents the log10(gamma)\n",
        "    model=LogisticRegression(max_iter=1000)\n",
        "    model.fit(x_train, y_train)\n",
        "    y_pred = model.predict(x_test)\n",
        "    return -accuracy_score(y_test, y_pred)  # Negative since PSO minimizes\n",
        "\n",
        "# Set up the PSO optimizer\n",
        "num_dimensions = 2  # Number of dimensions in the search space (C and gamma)\n",
        "# lb = [-4, -4]  # Lower bounds for C and gamma\n",
        "# ub = [4, 4]  # Upper bounds for C and gamma\n",
        "#above line giving 60% accuracy\n",
        "lb = [-1, -10]  \n",
        "ub = [1, 10] \n",
        "\n",
        "\n",
        "x_opt, f_opt = pso(objective_function, lb, ub, swarmsize=20, maxiter=100)\n",
        "\n",
        "# Convert the optimal solution to C and gamma values\n",
        "C = 10 ** x_opt[0]\n",
        "gamma = 10 ** x_opt[1]\n",
        "# Train the final model using the best hyperparameters\n",
        "final_model = LogisticRegression()\n",
        "final_model.fit(x_train, y_train)\n",
        "y_pred = final_model.predict(x_test)\n",
        "final_accuracy = accuracy_score(y_test, y_pred)\n",
        "print(\"Best hyperparameters (C, gamma):\", (C, gamma))\n",
        "print(\"Best accuracy found by PSO:\", -f_opt)\n",
        "print(\"Accuracy of the final model:\", final_accuracy)"
      ]
    },
    {
      "cell_type": "code",
      "execution_count": 29,
      "metadata": {
        "colab": {
          "base_uri": "https://localhost:8080/",
          "height": 280
        },
        "id": "ZStTlXWN-HKn",
        "outputId": "4fc09566-cf00-4e9b-f3e0-b1c9b61364ae"
      },
      "outputs": [],
      "source": [
        "# model=LogisticRegression(max_iter=1000)\n",
        "# model.fit(x_train,y_train)"
      ]
    },
    {
      "cell_type": "code",
      "execution_count": 30,
      "metadata": {
        "id": "Xza6QCHUAt0k"
      },
      "outputs": [],
      "source": [
        "# #accuracy score on the training data\n",
        "# x_train_pred=model.predict(x_train)\n",
        "# train_data_acc=accuracy_score(y_train,x_train_pred)"
      ]
    },
    {
      "cell_type": "code",
      "execution_count": 31,
      "metadata": {
        "id": "n-sN6vD_BOpo"
      },
      "outputs": [],
      "source": [
        "# print(\"Training Data Accuracy\",train_data_acc)"
      ]
    },
    {
      "cell_type": "code",
      "execution_count": 32,
      "metadata": {
        "id": "a9t2I9PeBXym"
      },
      "outputs": [],
      "source": [
        "# #accuracy score on the testing data\n",
        "# x_test_pred=model.predict(x_test)\n",
        "# test_data_acc=accuracy_score(y_test,x_test_pred)"
      ]
    },
    {
      "cell_type": "code",
      "execution_count": 33,
      "metadata": {
        "id": "XuikJtxRB2MA"
      },
      "outputs": [],
      "source": [
        "# print(\"Testing Data Accuracy\",test_data_acc)"
      ]
    },
    {
      "cell_type": "code",
      "execution_count": 34,
      "metadata": {},
      "outputs": [
        {
          "name": "stdout",
          "output_type": "stream",
          "text": [
            "Classification Report:\n"
          ]
        },
        {
          "ename": "NameError",
          "evalue": "name 'x_test_pred' is not defined",
          "output_type": "error",
          "traceback": [
            "\u001b[1;31m---------------------------------------------------------------------------\u001b[0m",
            "\u001b[1;31mNameError\u001b[0m                                 Traceback (most recent call last)",
            "Cell \u001b[1;32mIn[34], line 2\u001b[0m\n\u001b[0;32m      1\u001b[0m \u001b[38;5;28mprint\u001b[39m(\u001b[38;5;124m\"\u001b[39m\u001b[38;5;124mClassification Report:\u001b[39m\u001b[38;5;124m\"\u001b[39m)\n\u001b[1;32m----> 2\u001b[0m \u001b[38;5;28mprint\u001b[39m(classification_report(y_test, \u001b[43mx_test_pred\u001b[49m))\n",
            "\u001b[1;31mNameError\u001b[0m: name 'x_test_pred' is not defined"
          ]
        }
      ],
      "source": [
        "print(\"Classification Report:\")\n",
        "print(classification_report(y_test, x_test_pred))"
      ]
    },
    {
      "cell_type": "code",
      "execution_count": null,
      "metadata": {
        "id": "STcoqMZQCf3_"
      },
      "outputs": [],
      "source": [
        "#Saving the trained Model\n",
        "import pickle"
      ]
    },
    {
      "cell_type": "code",
      "execution_count": null,
      "metadata": {
        "id": "A2C8OOWMCpHJ"
      },
      "outputs": [],
      "source": [
        "filename=\"sentimental_analysis_trained_mode.sav\"\n",
        "pickle.dump(model,open(filename,'wb'))"
      ]
    },
    {
      "cell_type": "code",
      "execution_count": null,
      "metadata": {
        "id": "XnfCrqgjDP52"
      },
      "outputs": [],
      "source": [
        "#Using the saved model for future predictions\n",
        "loaded_model=pickle.load(open(r\"C:\\Users\\karni\\OneDrive\\Desktop\\chrome downloads\\Sem6\\Minor_Project\\sentimental_analysis_trained_mode.sav\",'rb'))"
      ]
    },
    {
      "cell_type": "code",
      "execution_count": null,
      "metadata": {
        "id": "RT-IT_6kDoq7"
      },
      "outputs": [
        {
          "name": "stdout",
          "output_type": "stream",
          "text": [
            "0\n",
            "[0]\n",
            "Negative Tweet\n"
          ]
        }
      ],
      "source": [
        "x_new=x_test[200]\n",
        "print(y_test[200])\n",
        "prediction=model.predict(x_new)\n",
        "print(prediction)\n",
        "if(prediction[0]==0):\n",
        "  print(\"Negative Tweet\")\n",
        "else:\n",
        "  print(\"Positive Tweet\")"
      ]
    },
    {
      "cell_type": "code",
      "execution_count": null,
      "metadata": {
        "id": "_-LE8k8lD19y"
      },
      "outputs": [
        {
          "name": "stdout",
          "output_type": "stream",
          "text": [
            "0\n",
            "[0]\n",
            "Negative Tweet\n"
          ]
        }
      ],
      "source": [
        "x_new=x_test[3]\n",
        "print(y_test[3])\n",
        "prediction=model.predict(x_new)\n",
        "print(prediction)\n",
        "if(prediction[0]==0):\n",
        "  print(\"Negative Tweet\")\n",
        "else:\n",
        "  print(\"Positive Tweet\")"
      ]
    },
    {
      "cell_type": "code",
      "execution_count": null,
      "metadata": {},
      "outputs": [],
      "source": [
        "X = df['stemmed_content']\n",
        "y = df['target']\n",
        "\n",
        "# Split the data into training and testing sets\n",
        "X_train, X_test, y_train, y_test = train_test_split(X, y, test_size=0.2, random_state=42)\n",
        "vectorizer=TfidfVectorizer()\n",
        "X_train_vec=vectorizer.fit_transform(X_train)\n",
        "X_test_vec=vectorizer.transform(X_test)"
      ]
    },
    {
      "cell_type": "code",
      "execution_count": null,
      "metadata": {},
      "outputs": [
        {
          "name": "stdout",
          "output_type": "stream",
          "text": [
            "Accuracy: 0.5907522256677004\n"
          ]
        }
      ],
      "source": [
        "from sklearn.neighbors import KNeighborsClassifier\n",
        "knn = KNeighborsClassifier(n_neighbors=5)\n",
        "\n",
        "# Train the classifier\n",
        "knn.fit(X_train_vec, y_train)\n",
        "\n",
        "# Make predictions\n",
        "y_pred = knn.predict(X_test_vec)\n",
        "\n",
        "# Calculate the accuracy of the classifier\n",
        "accuracy = accuracy_score(y_test, y_pred)\n",
        "print(f\"Accuracy: {accuracy}\")"
      ]
    }
  ],
  "metadata": {
    "accelerator": "TPU",
    "colab": {
      "provenance": []
    },
    "kernelspec": {
      "display_name": "Python 3",
      "name": "python3"
    },
    "language_info": {
      "codemirror_mode": {
        "name": "ipython",
        "version": 3
      },
      "file_extension": ".py",
      "mimetype": "text/x-python",
      "name": "python",
      "nbconvert_exporter": "python",
      "pygments_lexer": "ipython3",
      "version": "3.11.2"
    }
  },
  "nbformat": 4,
  "nbformat_minor": 0
}
