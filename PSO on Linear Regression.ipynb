{
 "cells": [
  {
   "cell_type": "code",
   "execution_count": 3,
   "id": "088030d0",
   "metadata": {},
   "outputs": [],
   "source": [
    "import numpy as np\n",
    "import pandas as pd\n",
    "import re\n",
    "from nltk.corpus import stopwords\n",
    "# natural language toolkit for textual data\n",
    "from nltk.stem.porter import PorterStemmer\n",
    "from sklearn.feature_extraction.text import TfidfVectorizer\n",
    "from sklearn.model_selection import train_test_split\n",
    "from sklearn.linear_model import LogisticRegression\n",
    "from sklearn.metrics import accuracy_score,classification_report\n",
    "from sklearn.tree import DecisionTreeClassifier\n",
    "from sklearn.feature_extraction.text import CountVectorizer"
   ]
  },
  {
   "cell_type": "code",
   "execution_count": 4,
   "id": "8d874898",
   "metadata": {},
   "outputs": [],
   "source": [
    "df = pd.read_csv(r\"C:\\Users\\HP\\Downloads\\archive\\Sentiment.csv\")\n",
    "df = df[['text','sentiment']]"
   ]
  },
  {
   "cell_type": "code",
   "execution_count": 5,
   "id": "5623d895",
   "metadata": {},
   "outputs": [
    {
     "data": {
      "text/html": [
       "<div>\n",
       "<style scoped>\n",
       "    .dataframe tbody tr th:only-of-type {\n",
       "        vertical-align: middle;\n",
       "    }\n",
       "\n",
       "    .dataframe tbody tr th {\n",
       "        vertical-align: top;\n",
       "    }\n",
       "\n",
       "    .dataframe thead th {\n",
       "        text-align: right;\n",
       "    }\n",
       "</style>\n",
       "<table border=\"1\" class=\"dataframe\">\n",
       "  <thead>\n",
       "    <tr style=\"text-align: right;\">\n",
       "      <th></th>\n",
       "      <th>text</th>\n",
       "      <th>sentiment</th>\n",
       "    </tr>\n",
       "  </thead>\n",
       "  <tbody>\n",
       "    <tr>\n",
       "      <th>0</th>\n",
       "      <td>RT @NancyLeeGrahn: How did everyone feel about...</td>\n",
       "      <td>Neutral</td>\n",
       "    </tr>\n",
       "    <tr>\n",
       "      <th>1</th>\n",
       "      <td>RT @ScottWalker: Didn't catch the full #GOPdeb...</td>\n",
       "      <td>Positive</td>\n",
       "    </tr>\n",
       "    <tr>\n",
       "      <th>2</th>\n",
       "      <td>RT @TJMShow: No mention of Tamir Rice and the ...</td>\n",
       "      <td>Neutral</td>\n",
       "    </tr>\n",
       "    <tr>\n",
       "      <th>3</th>\n",
       "      <td>RT @RobGeorge: That Carly Fiorina is trending ...</td>\n",
       "      <td>Positive</td>\n",
       "    </tr>\n",
       "    <tr>\n",
       "      <th>4</th>\n",
       "      <td>RT @DanScavino: #GOPDebate w/ @realDonaldTrump...</td>\n",
       "      <td>Positive</td>\n",
       "    </tr>\n",
       "  </tbody>\n",
       "</table>\n",
       "</div>"
      ],
      "text/plain": [
       "                                                text sentiment\n",
       "0  RT @NancyLeeGrahn: How did everyone feel about...   Neutral\n",
       "1  RT @ScottWalker: Didn't catch the full #GOPdeb...  Positive\n",
       "2  RT @TJMShow: No mention of Tamir Rice and the ...   Neutral\n",
       "3  RT @RobGeorge: That Carly Fiorina is trending ...  Positive\n",
       "4  RT @DanScavino: #GOPDebate w/ @realDonaldTrump...  Positive"
      ]
     },
     "execution_count": 5,
     "metadata": {},
     "output_type": "execute_result"
    }
   ],
   "source": [
    "df.head()"
   ]
  },
  {
   "cell_type": "code",
   "execution_count": 25,
   "id": "b675d0da",
   "metadata": {},
   "outputs": [
    {
     "data": {
      "text/plain": [
       "(1734, 2)"
      ]
     },
     "execution_count": 25,
     "metadata": {},
     "output_type": "execute_result"
    }
   ],
   "source": [
    "from sklearn.model_selection import train_test_split\n",
    "df.shape"
   ]
  },
  {
   "cell_type": "code",
   "execution_count": 7,
   "id": "28c8878f",
   "metadata": {},
   "outputs": [
    {
     "data": {
      "text/plain": [
       "text         0\n",
       "sentiment    0\n",
       "dtype: int64"
      ]
     },
     "execution_count": 7,
     "metadata": {},
     "output_type": "execute_result"
    }
   ],
   "source": [
    "df.isnull().sum()"
   ]
  },
  {
   "cell_type": "code",
   "execution_count": 8,
   "id": "ebe72440",
   "metadata": {},
   "outputs": [],
   "source": [
    "x=df['text'].values\n",
    "y=df['sentiment'].values"
   ]
  },
  {
   "cell_type": "code",
   "execution_count": 9,
   "id": "45cb3364",
   "metadata": {},
   "outputs": [
    {
     "name": "stdout",
     "output_type": "stream",
     "text": [
      "['RT @NancyLeeGrahn: How did everyone feel about the Climate Change question last night? Exactly. #GOPDebate'\n",
      " 'Deer in the headlights RT @lizzwinstead: Ben Carson, may be the only brain surgeon who has performed a lobotomy on himself. #GOPDebate'\n",
      " 'RT @CarolCNN: #DonaldTrump under fire for comments about women @PeterBeinart @SL_Schaeffer @IWF @@MyRkiger weigh in on #GOPdebate http://t.…'\n",
      " ...\n",
      " 'RT @PuestoLoco: .@NewDay Cancel the primaries. Fox Party set up &amp; anointed their man Jeb Bush\\n#GOPDebates #ObviousAsHell http://t.co/bgzYsy…'\n",
      " 'GOP respects life....just not black ones. #GOPDebates'\n",
      " 'RT @RWSurferGirl: Is it just me or does anyone else want to punch Chris Wallace in the face? #GOPDebate  #GOPDebates 🇺🇸']\n"
     ]
    }
   ],
   "source": [
    "print(x)"
   ]
  },
  {
   "cell_type": "code",
   "execution_count": 10,
   "id": "b46c061b",
   "metadata": {},
   "outputs": [
    {
     "name": "stdout",
     "output_type": "stream",
     "text": [
      "['Neutral' 'Negative' 'Negative' ... 'Negative' 'Negative' 'Negative']\n"
     ]
    }
   ],
   "source": [
    "print(y)"
   ]
  },
  {
   "cell_type": "code",
   "execution_count": 11,
   "id": "8676bf51",
   "metadata": {},
   "outputs": [
    {
     "data": {
      "text/html": [
       "<div>\n",
       "<style scoped>\n",
       "    .dataframe tbody tr th:only-of-type {\n",
       "        vertical-align: middle;\n",
       "    }\n",
       "\n",
       "    .dataframe tbody tr th {\n",
       "        vertical-align: top;\n",
       "    }\n",
       "\n",
       "    .dataframe thead th {\n",
       "        text-align: right;\n",
       "    }\n",
       "</style>\n",
       "<table border=\"1\" class=\"dataframe\">\n",
       "  <thead>\n",
       "    <tr style=\"text-align: right;\">\n",
       "      <th></th>\n",
       "      <th>text</th>\n",
       "      <th>sentiment</th>\n",
       "    </tr>\n",
       "  </thead>\n",
       "  <tbody>\n",
       "    <tr>\n",
       "      <th>0</th>\n",
       "      <td>RT @NancyLeeGrahn: How did everyone feel about...</td>\n",
       "      <td>Neutral</td>\n",
       "    </tr>\n",
       "    <tr>\n",
       "      <th>8</th>\n",
       "      <td>Deer in the headlights RT @lizzwinstead: Ben C...</td>\n",
       "      <td>Negative</td>\n",
       "    </tr>\n",
       "    <tr>\n",
       "      <th>16</th>\n",
       "      <td>RT @CarolCNN: #DonaldTrump under fire for comm...</td>\n",
       "      <td>Negative</td>\n",
       "    </tr>\n",
       "    <tr>\n",
       "      <th>24</th>\n",
       "      <td>RT @MrPooni: Fox News trying to convince us yo...</td>\n",
       "      <td>Negative</td>\n",
       "    </tr>\n",
       "    <tr>\n",
       "      <th>32</th>\n",
       "      <td>The First #GOPDebate: Social Media Reaction an...</td>\n",
       "      <td>Neutral</td>\n",
       "    </tr>\n",
       "    <tr>\n",
       "      <th>40</th>\n",
       "      <td>RT @mgell: Trump is a cross between the shrug ...</td>\n",
       "      <td>Negative</td>\n",
       "    </tr>\n",
       "    <tr>\n",
       "      <th>48</th>\n",
       "      <td>“@DanScavino: #GOPDebate w/ @realDonaldTrump d...</td>\n",
       "      <td>Positive</td>\n",
       "    </tr>\n",
       "    <tr>\n",
       "      <th>56</th>\n",
       "      <td>RT @Bipartisanism: The #GOPDebate response to ...</td>\n",
       "      <td>Negative</td>\n",
       "    </tr>\n",
       "    <tr>\n",
       "      <th>64</th>\n",
       "      <td>RT @TheJimHughes: If we want to stop sending f...</td>\n",
       "      <td>Negative</td>\n",
       "    </tr>\n",
       "    <tr>\n",
       "      <th>72</th>\n",
       "      <td>RT @NaughtyBeyotch: RT @AllenWestRepub \"Dear @...</td>\n",
       "      <td>Negative</td>\n",
       "    </tr>\n",
       "  </tbody>\n",
       "</table>\n",
       "</div>"
      ],
      "text/plain": [
       "                                                 text sentiment\n",
       "0   RT @NancyLeeGrahn: How did everyone feel about...   Neutral\n",
       "8   Deer in the headlights RT @lizzwinstead: Ben C...  Negative\n",
       "16  RT @CarolCNN: #DonaldTrump under fire for comm...  Negative\n",
       "24  RT @MrPooni: Fox News trying to convince us yo...  Negative\n",
       "32  The First #GOPDebate: Social Media Reaction an...   Neutral\n",
       "40  RT @mgell: Trump is a cross between the shrug ...  Negative\n",
       "48  “@DanScavino: #GOPDebate w/ @realDonaldTrump d...  Positive\n",
       "56  RT @Bipartisanism: The #GOPDebate response to ...  Negative\n",
       "64  RT @TheJimHughes: If we want to stop sending f...  Negative\n",
       "72  RT @NaughtyBeyotch: RT @AllenWestRepub \"Dear @...  Negative"
      ]
     },
     "execution_count": 11,
     "metadata": {},
     "output_type": "execute_result"
    }
   ],
   "source": [
    "df.head(10)"
   ]
  },
  {
   "cell_type": "code",
   "execution_count": null,
   "id": "1fc6a149",
   "metadata": {},
   "outputs": [],
   "source": []
  },
  {
   "cell_type": "code",
   "execution_count": 12,
   "id": "d4d6f939",
   "metadata": {},
   "outputs": [],
   "source": [
    "x_train,x_test,y_train,y_test=train_test_split(x,y,test_size=0.2,random_state=42,stratify=y)"
   ]
  },
  {
   "cell_type": "code",
   "execution_count": null,
   "id": "bb9c1837",
   "metadata": {},
   "outputs": [],
   "source": []
  },
  {
   "cell_type": "code",
   "execution_count": 13,
   "id": "d966511c",
   "metadata": {},
   "outputs": [
    {
     "name": "stdout",
     "output_type": "stream",
     "text": [
      "(1734,) (1387,) (347,)\n"
     ]
    }
   ],
   "source": [
    "print(x.shape,x_train.shape,x_test.shape)"
   ]
  },
  {
   "cell_type": "code",
   "execution_count": 14,
   "id": "ccf04a81",
   "metadata": {},
   "outputs": [],
   "source": [
    "#converting the actual data to numerical data\n",
    "vectorizer=TfidfVectorizer()\n",
    "x_train=vectorizer.fit_transform(x_train)\n",
    "x_test=vectorizer.transform(x_test)"
   ]
  },
  {
   "cell_type": "code",
   "execution_count": 15,
   "id": "84f82854",
   "metadata": {},
   "outputs": [
    {
     "name": "stdout",
     "output_type": "stream",
     "text": [
      "Stopping search: maximum iterations reached --> 100\n"
     ]
    }
   ],
   "source": [
    "from pyswarm import pso\n",
    "# Define the objective function for PSO\n",
    "def objective_function(x):\n",
    "    C = 10 ** x[0] \n",
    "    gamma = 10 ** x[1] \n",
    "    model=LogisticRegression(max_iter=1000)\n",
    "    model.fit(x_train, y_train)\n",
    "    y_pred = model.predict(x_test)\n",
    "    return -accuracy_score(y_test, y_pred)  # Negative since PSO minimizes\n",
    "\n",
    "# Set up the PSO optimizer\n",
    "num_dimensions = 2  \n",
    "lb = [-1, -10]  \n",
    "ub = [1, 10] \n",
    "x_opt, f_opt = pso(objective_function, lb, ub, swarmsize=20, maxiter=100)\n",
    "# Convert the optimal solution to C and gamma values\n",
    "C = 10 ** x_opt[0]\n",
    "gamma = 10 ** x_opt[1]"
   ]
  },
  {
   "cell_type": "code",
   "execution_count": 17,
   "id": "6204733b",
   "metadata": {},
   "outputs": [
    {
     "name": "stdout",
     "output_type": "stream",
     "text": [
      "Training Data Accuracy 0.7966834895457823\n"
     ]
    }
   ],
   "source": [
    "# Train the final model using the best hyperparameters\n",
    "final_model = LogisticRegression()\n",
    "final_model.fit(x_train, y_train)\n",
    "\n",
    "#accuracy score on the training data\n",
    "x_train_pred=final_model.predict(x_train)\n",
    "train_data_acc=accuracy_score(y_train,x_train_pred)\n",
    "print(\"Training Data Accuracy\",train_data_acc)"
   ]
  },
  {
   "cell_type": "code",
   "execution_count": 21,
   "id": "eb64f8f1",
   "metadata": {},
   "outputs": [
    {
     "name": "stdout",
     "output_type": "stream",
     "text": [
      "Testing Data Accuracy 0.6138328530259366\n"
     ]
    }
   ],
   "source": [
    "#accuracy score on the testing data\n",
    "X_test_pred=final_model.predict(x_test)\n",
    "test_data_acc=accuracy_score(y_test,X_test_pred)\n",
    "print(\"Testing Data Accuracy\",test_data_acc)"
   ]
  },
  {
   "cell_type": "code",
   "execution_count": 22,
   "id": "d337246d",
   "metadata": {},
   "outputs": [
    {
     "name": "stdout",
     "output_type": "stream",
     "text": [
      "Accuracy of the final model: 0.6138328530259366\n"
     ]
    }
   ],
   "source": [
    "y_pred = final_model.predict(x_test)\n",
    "final_accuracy = accuracy_score(y_test, y_pred)\n",
    "print(\"Accuracy of the final model:\", final_accuracy)"
   ]
  },
  {
   "cell_type": "code",
   "execution_count": 23,
   "id": "1ba3b938",
   "metadata": {},
   "outputs": [
    {
     "name": "stdout",
     "output_type": "stream",
     "text": [
      "              precision    recall  f1-score   support\n",
      "\n",
      "    Negative       0.65      0.91      0.76       207\n",
      "     Neutral       0.37      0.21      0.27        77\n",
      "    Positive       0.73      0.13      0.22        63\n",
      "\n",
      "    accuracy                           0.61       347\n",
      "   macro avg       0.58      0.42      0.41       347\n",
      "weighted avg       0.60      0.61      0.55       347\n",
      "\n",
      "['Neutral' 'Negative' 'Negative' 'Neutral' 'Neutral' 'Negative' 'Positive'\n",
      " 'Neutral' 'Negative' 'Positive' 'Positive' 'Negative' 'Negative'\n",
      " 'Negative' 'Negative' 'Negative' 'Positive' 'Negative' 'Negative'\n",
      " 'Positive' 'Negative' 'Negative' 'Negative' 'Negative' 'Negative'\n",
      " 'Negative' 'Negative' 'Positive' 'Negative' 'Neutral' 'Negative'\n",
      " 'Negative' 'Negative' 'Negative' 'Negative' 'Negative' 'Positive'\n",
      " 'Negative' 'Negative' 'Negative' 'Neutral' 'Negative' 'Neutral' 'Neutral'\n",
      " 'Negative' 'Neutral' 'Negative' 'Negative' 'Negative' 'Neutral'\n",
      " 'Negative' 'Negative' 'Neutral' 'Positive' 'Negative' 'Neutral' 'Neutral'\n",
      " 'Negative' 'Negative' 'Positive' 'Neutral' 'Positive' 'Positive'\n",
      " 'Neutral' 'Negative' 'Neutral' 'Neutral' 'Positive' 'Positive' 'Negative'\n",
      " 'Negative' 'Positive' 'Negative' 'Negative' 'Negative' 'Negative'\n",
      " 'Neutral' 'Neutral' 'Negative' 'Neutral' 'Negative' 'Positive' 'Positive'\n",
      " 'Negative' 'Negative' 'Positive' 'Negative' 'Negative' 'Positive'\n",
      " 'Negative' 'Negative' 'Negative' 'Negative' 'Positive' 'Negative'\n",
      " 'Negative' 'Neutral' 'Positive' 'Negative' 'Positive' 'Negative'\n",
      " 'Neutral' 'Negative' 'Negative' 'Negative' 'Negative' 'Negative'\n",
      " 'Neutral' 'Neutral' 'Neutral' 'Negative' 'Negative' 'Negative' 'Negative'\n",
      " 'Neutral' 'Positive' 'Neutral' 'Neutral' 'Negative' 'Negative' 'Neutral'\n",
      " 'Negative' 'Neutral' 'Negative' 'Negative' 'Negative' 'Positive'\n",
      " 'Negative' 'Neutral' 'Neutral' 'Positive' 'Negative' 'Negative'\n",
      " 'Negative' 'Negative' 'Positive' 'Negative' 'Negative' 'Neutral'\n",
      " 'Negative' 'Negative' 'Positive' 'Positive' 'Positive' 'Negative'\n",
      " 'Negative' 'Neutral' 'Neutral' 'Neutral' 'Positive' 'Negative' 'Neutral'\n",
      " 'Negative' 'Positive' 'Negative' 'Negative' 'Neutral' 'Neutral' 'Neutral'\n",
      " 'Negative' 'Negative' 'Negative' 'Positive' 'Positive' 'Negative'\n",
      " 'Negative' 'Neutral' 'Negative' 'Negative' 'Negative' 'Negative'\n",
      " 'Positive' 'Negative' 'Neutral' 'Neutral' 'Positive' 'Negative'\n",
      " 'Negative' 'Neutral' 'Negative' 'Negative' 'Negative' 'Neutral'\n",
      " 'Negative' 'Neutral' 'Negative' 'Positive' 'Negative' 'Negative'\n",
      " 'Negative' 'Negative' 'Negative' 'Neutral' 'Negative' 'Negative'\n",
      " 'Negative' 'Negative' 'Negative' 'Negative' 'Negative' 'Negative'\n",
      " 'Negative' 'Neutral' 'Negative' 'Negative' 'Negative' 'Neutral'\n",
      " 'Positive' 'Negative' 'Negative' 'Neutral' 'Neutral' 'Positive'\n",
      " 'Negative' 'Neutral' 'Negative' 'Negative' 'Positive' 'Negative'\n",
      " 'Negative' 'Negative' 'Negative' 'Negative' 'Negative' 'Neutral'\n",
      " 'Negative' 'Negative' 'Negative' 'Negative' 'Negative' 'Positive'\n",
      " 'Neutral' 'Negative' 'Negative' 'Negative' 'Positive' 'Negative'\n",
      " 'Positive' 'Positive' 'Negative' 'Negative' 'Negative' 'Neutral'\n",
      " 'Positive' 'Positive' 'Negative' 'Negative' 'Negative' 'Negative'\n",
      " 'Positive' 'Negative' 'Negative' 'Negative' 'Negative' 'Negative'\n",
      " 'Negative' 'Positive' 'Negative' 'Neutral' 'Neutral' 'Negative'\n",
      " 'Negative' 'Neutral' 'Positive' 'Negative' 'Positive' 'Negative'\n",
      " 'Negative' 'Negative' 'Positive' 'Neutral' 'Negative' 'Negative'\n",
      " 'Positive' 'Negative' 'Neutral' 'Negative' 'Positive' 'Neutral'\n",
      " 'Positive' 'Positive' 'Positive' 'Negative' 'Negative' 'Negative'\n",
      " 'Negative' 'Negative' 'Negative' 'Negative' 'Negative' 'Neutral'\n",
      " 'Positive' 'Negative' 'Positive' 'Negative' 'Negative' 'Neutral'\n",
      " 'Negative' 'Negative' 'Negative' 'Neutral' 'Neutral' 'Negative'\n",
      " 'Negative' 'Neutral' 'Positive' 'Negative' 'Negative' 'Positive'\n",
      " 'Negative' 'Positive' 'Negative' 'Negative' 'Negative' 'Negative'\n",
      " 'Positive' 'Neutral' 'Positive' 'Negative' 'Neutral' 'Negative'\n",
      " 'Negative' 'Negative' 'Neutral' 'Neutral' 'Positive' 'Neutral' 'Negative'\n",
      " 'Neutral' 'Negative' 'Neutral' 'Neutral' 'Negative' 'Negative' 'Neutral'\n",
      " 'Negative' 'Negative' 'Negative' 'Negative' 'Neutral' 'Negative'\n",
      " 'Positive' 'Negative' 'Negative' 'Negative' 'Neutral' 'Negative']\n"
     ]
    }
   ],
   "source": [
    "print(classification_report(y_test, X_test_pred))\n",
    "print(y_test)"
   ]
  },
  {
   "cell_type": "code",
   "execution_count": 24,
   "id": "8852ce63",
   "metadata": {},
   "outputs": [
    {
     "name": "stdout",
     "output_type": "stream",
     "text": [
      "Accuracy for Positive Sentiments: 0.12698412698412698\n",
      "Accuracy for Negative Sentiments: 0.9130434782608695\n",
      "Accuracy for Neutral Sentiments: 0.2077922077922078\n"
     ]
    }
   ],
   "source": [
    "positive_mask = (y_test =='Positive')\n",
    "negative_mask = (y_test == 'Negative')\n",
    "neutral_mask = (y_test == 'Neutral')\n",
    "\n",
    "# Calculate accuracy for each sentiment category\n",
    "accuracy_positive = accuracy_score(y_test[positive_mask], X_test_pred[positive_mask])\n",
    "accuracy_negative = accuracy_score(y_test[negative_mask], X_test_pred[negative_mask])\n",
    "accuracy_neutral = accuracy_score(y_test[neutral_mask], X_test_pred[neutral_mask])\n",
    "\n",
    "print(\"Accuracy for Positive Sentiments:\", accuracy_positive)\n",
    "print(\"Accuracy for Negative Sentiments:\", accuracy_negative)\n",
    "print(\"Accuracy for Neutral Sentiments:\", accuracy_neutral)"
   ]
  }
 ],
 "metadata": {
  "kernelspec": {
   "display_name": "Python 3 (ipykernel)",
   "language": "python",
   "name": "python3"
  },
  "language_info": {
   "codemirror_mode": {
    "name": "ipython",
    "version": 3
   },
   "file_extension": ".py",
   "mimetype": "text/x-python",
   "name": "python",
   "nbconvert_exporter": "python",
   "pygments_lexer": "ipython3",
   "version": "3.11.4"
  }
 },
 "nbformat": 4,
 "nbformat_minor": 5
}
